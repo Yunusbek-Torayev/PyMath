{
 "cells": [
  {
   "cell_type": "markdown",
   "id": "16e8bdc7",
   "metadata": {},
   "source": [
    "# 5. Limit. Hosila. Integral "
   ]
  },
  {
   "cell_type": "code",
   "execution_count": 1,
   "id": "7c70c1f8",
   "metadata": {},
   "outputs": [],
   "source": [
    "# Reja: \n",
    "# 1  Limitlarni hisoblash\n",
    "# 2  Birinchi va yuqori tartibli hosilalalarni hisoblash\n",
    "# 3  Boshlang'ich funksiyani topish\n",
    "# 4  Aniq integralni analitik va taqribiy hisoblash"
   ]
  },
  {
   "cell_type": "markdown",
   "id": "7175aced",
   "metadata": {},
   "source": [
    "# 1) Limitlarni hisoblash"
   ]
  },
  {
   "cell_type": "code",
   "execution_count": 2,
   "id": "f0c76105",
   "metadata": {},
   "outputs": [],
   "source": [
    "import sympy as sp\n",
    "import numpy as np\n",
    "import scipy as sc\n",
    "from sympy import *\n",
    "init_printing(use_unicode=True)"
   ]
  },
  {
   "cell_type": "code",
   "execution_count": 3,
   "id": "11cec39e",
   "metadata": {},
   "outputs": [],
   "source": [
    "x, y, z = symbols('x y z')"
   ]
  },
  {
   "cell_type": "markdown",
   "id": "859986e9",
   "metadata": {},
   "source": [
    "\\begin{equation}  \n",
    "\\lim_{x\\to 2} \\frac{x^2 - 4}{x-2}     \n",
    "\\end{equation} "
   ]
  },
  {
   "cell_type": "code",
   "execution_count": 4,
   "id": "07a9ca32",
   "metadata": {},
   "outputs": [
    {
     "data": {
      "image/png": "[encoded data removed]",
      "text/latex": [
       "$\\displaystyle \\frac{x^{2} - 4}{x - 2}$"
      ],
      "text/plain": [
       " 2    \n",
       "x  - 4\n",
       "──────\n",
       "x - 2 "
      ]
     },
     "execution_count": 4,
     "metadata": {},
     "output_type": "execute_result"
    }
   ],
   "source": [
    "f = (x**2 - 4)/(x-2)\n",
    "f"
   ]
  },
  {
   "cell_type": "code",
   "execution_count": 5,
   "id": "fa346933",
   "metadata": {},
   "outputs": [
    {
     "data": {
      "image/png": "[encoded data removed]",
      "text/latex": [
       "$\\displaystyle 4$"
      ],
      "text/plain": [
       "4"
      ]
     },
     "execution_count": 5,
     "metadata": {},
     "output_type": "execute_result"
    }
   ],
   "source": [
    "sp.limit(f,x,2)"
   ]
  },
  {
   "cell_type": "code",
   "execution_count": 6,
   "id": "8476be7c",
   "metadata": {},
   "outputs": [
    {
     "data": {
      "image/png": "[encoded data removed]",
      "text/latex": [
       "$\\displaystyle 2$"
      ],
      "text/plain": [
       "2"
      ]
     },
     "execution_count": 6,
     "metadata": {},
     "output_type": "execute_result"
    }
   ],
   "source": [
    "sp.limit(f,x,0)"
   ]
  },
  {
   "cell_type": "code",
   "execution_count": 7,
   "id": "d291191c",
   "metadata": {},
   "outputs": [
    {
     "data": {
      "image/png": "[encoded data removed]",
      "text/latex": [
       "$\\displaystyle \\infty$"
      ],
      "text/plain": [
       "∞"
      ]
     },
     "execution_count": 7,
     "metadata": {},
     "output_type": "execute_result"
    }
   ],
   "source": [
    "sp.limit(f,x,sp.oo)"
   ]
  },
  {
   "cell_type": "markdown",
   "id": "142df495",
   "metadata": {},
   "source": [
    "\\begin{equation}  \n",
    "\\lim_{x\\to \\infty} \\frac{x^2 - 5x + 4}{x^3 - 2x + 1}     \n",
    "\\end{equation} "
   ]
  },
  {
   "cell_type": "code",
   "execution_count": 8,
   "id": "19784e2a",
   "metadata": {},
   "outputs": [
    {
     "data": {
      "image/png": "[encoded data removed]",
      "text/latex": [
       "$\\displaystyle \\frac{x^{2} - 5 x + 4}{x^{3} - 2 x + 1}$"
      ],
      "text/plain": [
       " 2          \n",
       "x  - 5⋅x + 4\n",
       "────────────\n",
       " 3          \n",
       "x  - 2⋅x + 1"
      ]
     },
     "execution_count": 8,
     "metadata": {},
     "output_type": "execute_result"
    }
   ],
   "source": [
    "g = (x**2 - 5*x + 4)/(x**3 - 2*x + 1)\n",
    "g"
   ]
  },
  {
   "cell_type": "code",
   "execution_count": 9,
   "id": "e08eae8a",
   "metadata": {},
   "outputs": [
    {
     "data": {
      "image/png": "[encoded data removed]",
      "text/latex": [
       "$\\displaystyle 0$"
      ],
      "text/plain": [
       "0"
      ]
     },
     "execution_count": 9,
     "metadata": {},
     "output_type": "execute_result"
    }
   ],
   "source": [
    "sp.limit(g,x,sp.oo)"
   ]
  },
  {
   "cell_type": "code",
   "execution_count": 10,
   "id": "f0c0e2f7",
   "metadata": {},
   "outputs": [
    {
     "data": {
      "image/png": "[encoded data removed]",
      "text/latex": [
       "$\\displaystyle \\frac{x^{4} - 5 x + 4}{x^{3} - 2 x + 1}$"
      ],
      "text/plain": [
       " 4          \n",
       "x  - 5⋅x + 4\n",
       "────────────\n",
       " 3          \n",
       "x  - 2⋅x + 1"
      ]
     },
     "execution_count": 10,
     "metadata": {},
     "output_type": "execute_result"
    }
   ],
   "source": [
    "z = (x**4 - 5*x + 4)/(x**3 - 2*x + 1)\n",
    "z"
   ]
  },
  {
   "cell_type": "code",
   "execution_count": 11,
   "id": "469bae07",
   "metadata": {},
   "outputs": [
    {
     "data": {
      "image/png": "[encoded data removed]",
      "text/latex": [
       "$\\displaystyle \\infty$"
      ],
      "text/plain": [
       "∞"
      ]
     },
     "execution_count": 11,
     "metadata": {},
     "output_type": "execute_result"
    }
   ],
   "source": [
    "sp.limit(z,x,sp.oo)"
   ]
  },
  {
   "cell_type": "code",
   "execution_count": 12,
   "id": "ba54cf89",
   "metadata": {},
   "outputs": [
    {
     "data": {
      "image/png": "[encoded data removed]",
      "text/latex": [
       "$\\displaystyle -5$"
      ],
      "text/plain": [
       "-5"
      ]
     },
     "execution_count": 12,
     "metadata": {},
     "output_type": "execute_result"
    }
   ],
   "source": [
    "sp.limit(z,x,-3)"
   ]
  },
  {
   "cell_type": "markdown",
   "id": "aacead5a",
   "metadata": {},
   "source": [
    "\\begin{equation}  \n",
    "\\lim_{x\\to 0^{+}} \\frac{e^x}{e^{1/x}+2}     \n",
    "\\end{equation} "
   ]
  },
  {
   "cell_type": "code",
   "execution_count": 13,
   "id": "9cb0555d",
   "metadata": {},
   "outputs": [
    {
     "data": {
      "image/png": "[encoded data removed]",
      "text/latex": [
       "$\\displaystyle \\frac{e^{x}}{e^{\\frac{1}{x}} + 2}$"
      ],
      "text/plain": [
       "   x  \n",
       "  ℯ   \n",
       "──────\n",
       " 1    \n",
       " ─    \n",
       " x    \n",
       "ℯ  + 2"
      ]
     },
     "execution_count": 13,
     "metadata": {},
     "output_type": "execute_result"
    }
   ],
   "source": [
    "w = sp.exp(x)/(sp.exp(1/x) +2)\n",
    "w"
   ]
  },
  {
   "cell_type": "code",
   "execution_count": 14,
   "id": "97e86f99",
   "metadata": {},
   "outputs": [
    {
     "data": {
      "image/png": "[encoded data removed]",
      "text/latex": [
       "$\\displaystyle \\frac{e^{3}}{e^{\\frac{1}{3}} + 2}$"
      ],
      "text/plain": [
       "    3   \n",
       "   ℯ    \n",
       "────────\n",
       " 1/3    \n",
       "ℯ    + 2"
      ]
     },
     "execution_count": 14,
     "metadata": {},
     "output_type": "execute_result"
    }
   ],
   "source": [
    "sp.limit(w,x,3)"
   ]
  },
  {
   "cell_type": "markdown",
   "id": "d0c3ad07",
   "metadata": {},
   "source": [
    "\\begin{equation}  \n",
    "\\lim_{x\\to 0^{-}} \\frac{e^x}{e^{1/x}+2}     \n",
    "\\end{equation} "
   ]
  },
  {
   "cell_type": "code",
   "execution_count": 15,
   "id": "581e2512",
   "metadata": {},
   "outputs": [
    {
     "data": {
      "image/png": "[encoded data removed]",
      "text/latex": [
       "$\\displaystyle 0$"
      ],
      "text/plain": [
       "0"
      ]
     },
     "execution_count": 15,
     "metadata": {},
     "output_type": "execute_result"
    }
   ],
   "source": [
    "sp.limit(w,x,0, dir='+')"
   ]
  },
  {
   "cell_type": "code",
   "execution_count": 16,
   "id": "774b784e",
   "metadata": {},
   "outputs": [
    {
     "data": {
      "image/png": "[encoded data removed]",
      "text/latex": [
       "$\\displaystyle \\frac{1}{2}$"
      ],
      "text/plain": [
       "1/2"
      ]
     },
     "execution_count": 16,
     "metadata": {},
     "output_type": "execute_result"
    }
   ],
   "source": [
    "sp.limit(w,x,0, dir='-')"
   ]
  },
  {
   "cell_type": "markdown",
   "id": "b3a4eef9",
   "metadata": {},
   "source": [
    "# 2) Birinchi va yuqori tartibli hosilalalarni hisoblash"
   ]
  },
  {
   "cell_type": "markdown",
   "id": "55ba5cfe",
   "metadata": {},
   "source": [
    "$ f = sinx \\cdot e^{x^2 - y^3} \\quad $ funksiyaning x-bo'yicha 1- va 2-tartibli, y-bo'yicha 4-tartibli hosilasini hisoblang. "
   ]
  },
  {
   "cell_type": "code",
   "execution_count": 17,
   "id": "ed1e18e7",
   "metadata": {},
   "outputs": [
    {
     "data": {
      "image/png": "[encoded data removed]",
      "text/latex": [
       "$\\displaystyle e^{x^{2} - y^{3}} \\sin{\\left(x \\right)}$"
      ],
      "text/plain": [
       "  2    3       \n",
       " x  - y        \n",
       "ℯ       ⋅sin(x)"
      ]
     },
     "execution_count": 17,
     "metadata": {},
     "output_type": "execute_result"
    }
   ],
   "source": [
    "f=sp.sin(x)*sp.exp(x**2 - y**3)\n",
    "f"
   ]
  },
  {
   "cell_type": "code",
   "execution_count": 18,
   "id": "6cda949f",
   "metadata": {},
   "outputs": [
    {
     "data": {
      "image/png": "[encoded data removed]",
      "text/latex": [
       "$\\displaystyle 2 x e^{x^{2} - y^{3}} \\sin{\\left(x \\right)} + e^{x^{2} - y^{3}} \\cos{\\left(x \\right)}$"
      ],
      "text/plain": [
       "      2    3            2    3       \n",
       "     x  - y            x  - y        \n",
       "2⋅x⋅ℯ       ⋅sin(x) + ℯ       ⋅cos(x)"
      ]
     },
     "execution_count": 18,
     "metadata": {},
     "output_type": "execute_result"
    }
   ],
   "source": [
    "sp.diff(f,x)"
   ]
  },
  {
   "cell_type": "code",
   "execution_count": 19,
   "id": "06f7c00c",
   "metadata": {},
   "outputs": [
    {
     "data": {
      "image/png": "[encoded data removed]",
      "text/latex": [
       "$\\displaystyle \\left(4 x \\cos{\\left(x \\right)} + 2 \\cdot \\left(2 x^{2} + 1\\right) \\sin{\\left(x \\right)} - \\sin{\\left(x \\right)}\\right) e^{x^{2} - y^{3}}$"
      ],
      "text/plain": [
       "                                              2    3\n",
       "⎛               ⎛   2    ⎞                ⎞  x  - y \n",
       "⎝4⋅x⋅cos(x) + 2⋅⎝2⋅x  + 1⎠⋅sin(x) - sin(x)⎠⋅ℯ       "
      ]
     },
     "execution_count": 19,
     "metadata": {},
     "output_type": "execute_result"
    }
   ],
   "source": [
    "sp.diff(f,x,x)"
   ]
  },
  {
   "cell_type": "code",
   "execution_count": 20,
   "id": "55a7dd7c",
   "metadata": {},
   "outputs": [
    {
     "data": {
      "image/png": "[encoded data removed]",
      "text/latex": [
       "$\\displaystyle \\left(16 x \\left(2 x^{2} + 3\\right) \\cos{\\left(x \\right)} - 8 x \\cos{\\left(x \\right)} - 12 \\cdot \\left(2 x^{2} + 1\\right) \\sin{\\left(x \\right)} + 4 \\cdot \\left(4 x^{4} + 12 x^{2} + 3\\right) \\sin{\\left(x \\right)} + \\sin{\\left(x \\right)}\\right) e^{x^{2} - y^{3}}$"
      ],
      "text/plain": [
       "                                                                              \n",
       "⎛     ⎛   2    ⎞                          ⎛   2    ⎞            ⎛   4       2 \n",
       "⎝16⋅x⋅⎝2⋅x  + 3⎠⋅cos(x) - 8⋅x⋅cos(x) - 12⋅⎝2⋅x  + 1⎠⋅sin(x) + 4⋅⎝4⋅x  + 12⋅x  \n",
       "\n",
       "                        2    3\n",
       "   ⎞                ⎞  x  - y \n",
       "+ 3⎠⋅sin(x) + sin(x)⎠⋅ℯ       "
      ]
     },
     "execution_count": 20,
     "metadata": {},
     "output_type": "execute_result"
    }
   ],
   "source": [
    "sp.diff(f,x,4)"
   ]
  },
  {
   "cell_type": "code",
   "execution_count": 21,
   "id": "b1228a5c",
   "metadata": {},
   "outputs": [
    {
     "data": {
      "image/png": "[encoded data removed]",
      "text/latex": [
       "$\\displaystyle 9 y^{2} \\cdot \\left(9 y^{6} - 36 y^{3} + 20\\right) e^{x^{2} - y^{3}} \\sin{\\left(x \\right)}$"
      ],
      "text/plain": [
       "                           2    3       \n",
       "   2 ⎛   6       3     ⎞  x  - y        \n",
       "9⋅y ⋅⎝9⋅y  - 36⋅y  + 20⎠⋅ℯ       ⋅sin(x)"
      ]
     },
     "execution_count": 21,
     "metadata": {},
     "output_type": "execute_result"
    }
   ],
   "source": [
    "sp.diff(f,y,4)"
   ]
  },
  {
   "cell_type": "markdown",
   "id": "fa664b83",
   "metadata": {},
   "source": [
    "$f = f(x^2+g(x))$ funksiyada f dan x bo'yicha, f dan g bo'yicha hosilalarni toping. "
   ]
  },
  {
   "cell_type": "code",
   "execution_count": 24,
   "id": "f5c06d2d",
   "metadata": {},
   "outputs": [],
   "source": [
    "f,g = sp.symbols('f,g', cls=sp.Function)\n",
    "g = g(x-3)\n",
    "f = f(x**2 + g)"
   ]
  },
  {
   "cell_type": "code",
   "execution_count": 25,
   "id": "e7e608bb",
   "metadata": {},
   "outputs": [
    {
     "data": {
      "image/png": "[encoded data removed]",
      "text/latex": [
       "$\\displaystyle \\left(2 x + \\left. \\frac{d}{d \\xi_{1}} g{\\left(\\xi_{1} \\right)} \\right|_{\\substack{ \\xi_{1}=x - 3 }}\\right) \\left. \\frac{d}{d \\xi_{1}} f{\\left(\\xi_{1} \\right)} \\right|_{\\substack{ \\xi_{1}=x^{2} + g{\\left(x - 3 \\right)} }}$"
      ],
      "text/plain": [
       "⎛      ⎛ d        ⎞│        ⎞ ⎛ d        ⎞│                \n",
       "⎜2⋅x + ⎜───(g(ξ₁))⎟│        ⎟⋅⎜───(f(ξ₁))⎟│    2           \n",
       "⎝      ⎝dξ₁       ⎠│ξ₁=x - 3⎠ ⎝dξ₁       ⎠│ξ₁=x  + g(x - 3)"
      ]
     },
     "execution_count": 25,
     "metadata": {},
     "output_type": "execute_result"
    }
   ],
   "source": [
    "sp.diff(f,x)"
   ]
  },
  {
   "cell_type": "code",
   "execution_count": 26,
   "id": "d7a3286e",
   "metadata": {},
   "outputs": [
    {
     "data": {
      "image/png": "[encoded data removed]",
      "text/latex": [
       "$\\displaystyle \\left(2 x + \\left. \\frac{d}{d \\xi_{1}} g{\\left(\\xi_{1} \\right)} \\right|_{\\substack{ \\xi_{1}=x - 3 }}\\right)^{3} \\left. \\frac{d^{3}}{d \\xi_{1}^{3}} f{\\left(\\xi_{1} \\right)} \\right|_{\\substack{ \\xi_{1}=x^{2} + g{\\left(x - 3 \\right)} }} + 3 \\cdot \\left(2 x + \\left. \\frac{d}{d \\xi_{1}} g{\\left(\\xi_{1} \\right)} \\right|_{\\substack{ \\xi_{1}=x - 3 }}\\right) \\left(\\left. \\frac{d^{2}}{d \\xi_{1}^{2}} g{\\left(\\xi_{1} \\right)} \\right|_{\\substack{ \\xi_{1}=x - 3 }} + 2\\right) \\left. \\frac{d^{2}}{d \\xi_{1}^{2}} f{\\left(\\xi_{1} \\right)} \\right|_{\\substack{ \\xi_{1}=x^{2} + g{\\left(x - 3 \\right)} }} + \\left. \\frac{d}{d \\xi_{1}} f{\\left(\\xi_{1} \\right)} \\right|_{\\substack{ \\xi_{1}=x^{2} + g{\\left(x - 3 \\right)} }} \\left. \\frac{d^{3}}{d \\xi_{1}^{3}} g{\\left(\\xi_{1} \\right)} \\right|_{\\substack{ \\xi_{1}=x - 3 }}$"
      ],
      "text/plain": [
       "                             3 ⎛  3        ⎞│                                 \n",
       "⎛      ⎛ d        ⎞│        ⎞  ⎜ d         ⎟│                     ⎛      ⎛ d  \n",
       "⎜2⋅x + ⎜───(g(ξ₁))⎟│        ⎟ ⋅⎜────(f(ξ₁))⎟│                 + 3⋅⎜2⋅x + ⎜───(\n",
       "⎝      ⎝dξ₁       ⎠│ξ₁=x - 3⎠  ⎜   3       ⎟│    2                ⎝      ⎝dξ₁ \n",
       "                               ⎝dξ₁        ⎠│ξ₁=x  + g(x - 3)                 \n",
       "\n",
       "                  ⎛⎛  2        ⎞│            ⎞ ⎛  2        ⎞│                 \n",
       "      ⎞│        ⎞ ⎜⎜ d         ⎟│            ⎟ ⎜ d         ⎟│                 \n",
       "g(ξ₁))⎟│        ⎟⋅⎜⎜────(g(ξ₁))⎟│         + 2⎟⋅⎜────(f(ξ₁))⎟│                 \n",
       "      ⎠│ξ₁=x - 3⎠ ⎜⎜   2       ⎟│            ⎟ ⎜   2       ⎟│    2            \n",
       "                  ⎝⎝dξ₁        ⎠│ξ₁=x - 3    ⎠ ⎝dξ₁        ⎠│ξ₁=x  + g(x - 3) \n",
       "\n",
       "                                ⎛  3        ⎞│        \n",
       "  ⎛ d        ⎞│                 ⎜ d         ⎟│        \n",
       "+ ⎜───(f(ξ₁))⎟│    2           ⋅⎜────(g(ξ₁))⎟│        \n",
       "  ⎝dξ₁       ⎠│ξ₁=x  + g(x - 3) ⎜   3       ⎟│        \n",
       "                                ⎝dξ₁        ⎠│ξ₁=x - 3"
      ]
     },
     "execution_count": 26,
     "metadata": {},
     "output_type": "execute_result"
    }
   ],
   "source": [
    "sp.diff(f,x,3)"
   ]
  },
  {
   "cell_type": "markdown",
   "id": "b125615e",
   "metadata": {},
   "source": [
    "# 3) Boshlang'ich funksiyani topish"
   ]
  },
  {
   "cell_type": "code",
   "execution_count": 27,
   "id": "3814e542",
   "metadata": {},
   "outputs": [],
   "source": [
    "x, y, z = symbols('x y z')"
   ]
  },
  {
   "cell_type": "markdown",
   "id": "bc8de6f4",
   "metadata": {},
   "source": [
    "$ f = x^3 - \\frac{2}{x^3} $ funksiyaning boshlang'ich funksiyasini toping. "
   ]
  },
  {
   "cell_type": "code",
   "execution_count": 30,
   "id": "fad69d89",
   "metadata": {},
   "outputs": [
    {
     "data": {
      "image/png": "[encoded data removed]",
      "text/latex": [
       "$\\displaystyle x^{3} - \\frac{2}{x^{3}}$"
      ],
      "text/plain": [
       " 3   2 \n",
       "x  - ──\n",
       "      3\n",
       "     x "
      ]
     },
     "execution_count": 30,
     "metadata": {},
     "output_type": "execute_result"
    }
   ],
   "source": [
    "f = x**3 - 2/x**3 \n",
    "f"
   ]
  },
  {
   "cell_type": "code",
   "execution_count": 31,
   "id": "10a1b837",
   "metadata": {},
   "outputs": [
    {
     "data": {
      "image/png": "[encoded data removed]",
      "text/latex": [
       "$\\displaystyle \\frac{x^{4}}{4} + \\frac{1}{x^{2}}$"
      ],
      "text/plain": [
       " 4     \n",
       "x    1 \n",
       "── + ──\n",
       "4     2\n",
       "     x "
      ]
     },
     "execution_count": 31,
     "metadata": {},
     "output_type": "execute_result"
    }
   ],
   "source": [
    "sp.integrate(f,x)"
   ]
  },
  {
   "cell_type": "code",
   "execution_count": 32,
   "id": "02238a48",
   "metadata": {},
   "outputs": [
    {
     "data": {
      "image/png": "[encoded data removed]",
      "text/latex": [
       "$\\displaystyle \\frac{x^{5}}{20} - \\frac{1}{x}$"
      ],
      "text/plain": [
       " 5    \n",
       "x    1\n",
       "── - ─\n",
       "20   x"
      ]
     },
     "execution_count": 32,
     "metadata": {},
     "output_type": "execute_result"
    }
   ],
   "source": [
    "sp.integrate(f,x,x) "
   ]
  },
  {
   "cell_type": "code",
   "execution_count": 33,
   "id": "9e53ee91",
   "metadata": {},
   "outputs": [
    {
     "data": {
      "image/png": "[encoded data removed]",
      "text/latex": [
       "$\\displaystyle \\frac{x^{7}}{840} - x \\log{\\left(x \\right)} + x$"
      ],
      "text/plain": [
       "  7               \n",
       " x                \n",
       "─── - x⋅log(x) + x\n",
       "840               "
      ]
     },
     "execution_count": 33,
     "metadata": {},
     "output_type": "execute_result"
    }
   ],
   "source": [
    "sp.integrate(f,x,x,x,x)"
   ]
  },
  {
   "cell_type": "markdown",
   "id": "97c9606f",
   "metadata": {},
   "source": [
    "$ g = x^2 + 2/x $ funksiyaning G(1) = 2 shartni qanoatlantiruvchi boshlang'ich funksiyasini toping."
   ]
  },
  {
   "cell_type": "code",
   "execution_count": 36,
   "id": "4152f3c4",
   "metadata": {},
   "outputs": [
    {
     "data": {
      "image/png": "[encoded data removed]",
      "text/latex": [
       "$\\displaystyle x^{2} + \\frac{2}{x}$"
      ],
      "text/plain": [
       " 2   2\n",
       "x  + ─\n",
       "     x"
      ]
     },
     "execution_count": 36,
     "metadata": {},
     "output_type": "execute_result"
    }
   ],
   "source": [
    "g = x**2 + 2/x \n",
    "g"
   ]
  },
  {
   "cell_type": "code",
   "execution_count": 37,
   "id": "d9e9c611",
   "metadata": {},
   "outputs": [
    {
     "data": {
      "image/png": "[encoded data removed]",
      "text/latex": [
       "$\\displaystyle \\frac{x^{3}}{3} + 2 \\log{\\left(x \\right)}$"
      ],
      "text/plain": [
       " 3           \n",
       "x            \n",
       "── + 2⋅log(x)\n",
       "3            "
      ]
     },
     "execution_count": 37,
     "metadata": {},
     "output_type": "execute_result"
    }
   ],
   "source": [
    "G = sp.integrate(g,x)\n",
    "G"
   ]
  },
  {
   "cell_type": "code",
   "execution_count": 38,
   "id": "8dd32559",
   "metadata": {},
   "outputs": [],
   "source": [
    "C = - G.subs(x,1) + 2"
   ]
  },
  {
   "cell_type": "code",
   "execution_count": 41,
   "id": "e77fa2c1",
   "metadata": {},
   "outputs": [
    {
     "data": {
      "image/png": "[encoded data removed]",
      "text/latex": [
       "$\\displaystyle \\frac{x^{3}}{3} + 2 \\log{\\left(x \\right)} + \\frac{5}{3}$"
      ],
      "text/plain": [
       " 3               \n",
       "x               5\n",
       "── + 2⋅log(x) + ─\n",
       "3               3"
      ]
     },
     "execution_count": 41,
     "metadata": {},
     "output_type": "execute_result"
    }
   ],
   "source": [
    "G1 = G + C\n",
    "G1"
   ]
  },
  {
   "cell_type": "code",
   "execution_count": 40,
   "id": "1db092a0",
   "metadata": {},
   "outputs": [
    {
     "data": {
      "image/png": "[encoded data removed]",
      "text/latex": [
       "$\\displaystyle x^{0.333333333333333} - x^{0.5}$"
      ],
      "text/plain": [
       " 0.333333333333333    0.5\n",
       "x                  - x   "
      ]
     },
     "execution_count": 40,
     "metadata": {},
     "output_type": "execute_result"
    }
   ],
   "source": [
    "y = x**(1/3) - x**(1/2)\n",
    "y"
   ]
  },
  {
   "cell_type": "code",
   "execution_count": 42,
   "id": "18238da7",
   "metadata": {},
   "outputs": [
    {
     "data": {
      "image/png": "[encoded data removed]",
      "text/latex": [
       "$\\displaystyle 0.75 x^{1.33333333333333} - 0.666666666666667 x^{1.5}$"
      ],
      "text/plain": [
       "      1.33333333333333                      1.5\n",
       "0.75⋅x                 - 0.666666666666667⋅x   "
      ]
     },
     "execution_count": 42,
     "metadata": {},
     "output_type": "execute_result"
    }
   ],
   "source": [
    "sp.integrate(y,x)"
   ]
  },
  {
   "cell_type": "code",
   "execution_count": 43,
   "id": "c6361da7",
   "metadata": {},
   "outputs": [
    {
     "data": {
      "image/png": "[encoded data removed]",
      "text/latex": [
       "$\\displaystyle \\sqrt[3]{x} - \\sqrt{x}$"
      ],
      "text/plain": [
       "3 ___     \n",
       "╲╱ x  - √x"
      ]
     },
     "execution_count": 43,
     "metadata": {},
     "output_type": "execute_result"
    }
   ],
   "source": [
    "y = x**(sp.Rational(1,3)) - x**(sp.Rational(1,2)) \n",
    "y"
   ]
  },
  {
   "cell_type": "code",
   "execution_count": 44,
   "id": "0d87ce70",
   "metadata": {},
   "outputs": [
    {
     "data": {
      "image/png": "[encoded data removed]",
      "text/latex": [
       "$\\displaystyle \\frac{3 x^{\\frac{4}{3}}}{4} - \\frac{2 x^{\\frac{3}{2}}}{3}$"
      ],
      "text/plain": [
       "   4/3      3/2\n",
       "3⋅x      2⋅x   \n",
       "────── - ──────\n",
       "  4        3   "
      ]
     },
     "execution_count": 44,
     "metadata": {},
     "output_type": "execute_result"
    }
   ],
   "source": [
    "sp.integrate(y,x)"
   ]
  },
  {
   "cell_type": "markdown",
   "id": "b255a434",
   "metadata": {},
   "source": [
    "$ \\int e^{-ax} \\cdot cosbx dx \\quad $ funksiyaning boshlang'ich funksiyasini toping."
   ]
  },
  {
   "cell_type": "code",
   "execution_count": 45,
   "id": "653ae104",
   "metadata": {},
   "outputs": [],
   "source": [
    "a, b = sp.symbols('a b', real=True, positive=True)"
   ]
  },
  {
   "cell_type": "code",
   "execution_count": 47,
   "id": "39387f3f",
   "metadata": {},
   "outputs": [
    {
     "data": {
      "image/png": "[encoded data removed]",
      "text/latex": [
       "$\\displaystyle e^{- a x} \\cos{\\left(b x \\right)}$"
      ],
      "text/plain": [
       " -a⋅x         \n",
       "ℯ    ⋅cos(b⋅x)"
      ]
     },
     "execution_count": 47,
     "metadata": {},
     "output_type": "execute_result"
    }
   ],
   "source": [
    "f = sp.exp(-a*x)*sp.cos(b*x)\n",
    "f"
   ]
  },
  {
   "cell_type": "code",
   "execution_count": 48,
   "id": "f0ae15c6",
   "metadata": {},
   "outputs": [
    {
     "data": {
      "image/png": "[encoded data removed]",
      "text/latex": [
       "$\\displaystyle - \\frac{a \\cos{\\left(b x \\right)}}{a^{2} e^{a x} + b^{2} e^{a x}} + \\frac{b \\sin{\\left(b x \\right)}}{a^{2} e^{a x} + b^{2} e^{a x}}$"
      ],
      "text/plain": [
       "      a⋅cos(b⋅x)          b⋅sin(b⋅x)   \n",
       "- ───────────────── + ─────────────────\n",
       "   2  a⋅x    2  a⋅x    2  a⋅x    2  a⋅x\n",
       "  a ⋅ℯ    + b ⋅ℯ      a ⋅ℯ    + b ⋅ℯ   "
      ]
     },
     "execution_count": 48,
     "metadata": {},
     "output_type": "execute_result"
    }
   ],
   "source": [
    "sp.integrate(f,x)"
   ]
  },
  {
   "cell_type": "code",
   "execution_count": 49,
   "id": "a4b3e28b",
   "metadata": {},
   "outputs": [
    {
     "data": {
      "image/png": "[encoded data removed]",
      "text/latex": [
       "$\\displaystyle \\frac{\\left(- a \\cos{\\left(b x \\right)} + b \\sin{\\left(b x \\right)}\\right) e^{- a x}}{a^{2} + b^{2}}$"
      ],
      "text/plain": [
       "                            -a⋅x\n",
       "(-a⋅cos(b⋅x) + b⋅sin(b⋅x))⋅ℯ    \n",
       "────────────────────────────────\n",
       "             2    2             \n",
       "            a  + b              "
      ]
     },
     "execution_count": 49,
     "metadata": {},
     "output_type": "execute_result"
    }
   ],
   "source": [
    "(sp.integrate(f,x)).simplify()"
   ]
  },
  {
   "cell_type": "markdown",
   "id": "b3234e7c",
   "metadata": {},
   "source": [
    "# 4) Aniq integralni analitik va taqribiy hisoblash"
   ]
  },
  {
   "cell_type": "code",
   "execution_count": 50,
   "id": "6059599c",
   "metadata": {},
   "outputs": [],
   "source": [
    "import sympy as sp\n",
    "import numpy as np\n",
    "import scipy as sc\n",
    "from sympy import *\n",
    "init_printing(use_unicode=True)\n",
    "from scipy.integrate import quad \n",
    "from scipy.integrate import cumulative_trapezoid"
   ]
  },
  {
   "cell_type": "markdown",
   "id": "a3273f04",
   "metadata": {},
   "source": [
    "\\begin{equation} \\int_{\\pi/4} ^{\\pi/3}  (sinx - tgx)dx \\end{equation} integralni hisoblang."
   ]
  },
  {
   "cell_type": "code",
   "execution_count": 51,
   "id": "9bf9decd",
   "metadata": {},
   "outputs": [
    {
     "data": {
      "image/png": "[encoded data removed]",
      "text/latex": [
       "$\\displaystyle \\sin{\\left(x \\right)} - \\tan{\\left(x \\right)}$"
      ],
      "text/plain": [
       "sin(x) - tan(x)"
      ]
     },
     "execution_count": 51,
     "metadata": {},
     "output_type": "execute_result"
    }
   ],
   "source": [
    "z = sp.sin(x) - sp.tan(x)\n",
    "z"
   ]
  },
  {
   "cell_type": "code",
   "execution_count": 52,
   "id": "e6c11bd0",
   "metadata": {},
   "outputs": [
    {
     "data": {
      "image/png": "[encoded data removed]",
      "text/latex": [
       "$\\displaystyle - \\log{\\left(2 \\right)} - \\frac{1}{2} - \\log{\\left(\\frac{\\sqrt{2}}{2} \\right)} + \\frac{\\sqrt{2}}{2}$"
      ],
      "text/plain": [
       "          1      ⎛√2⎞   √2\n",
       "-log(2) - ─ - log⎜──⎟ + ──\n",
       "          2      ⎝2 ⎠   2 "
      ]
     },
     "execution_count": 52,
     "metadata": {},
     "output_type": "execute_result"
    }
   ],
   "source": [
    "sp.integrate(z,(x,sp.pi/4, sp.pi/3))"
   ]
  },
  {
   "cell_type": "code",
   "execution_count": 53,
   "id": "3662ab9a",
   "metadata": {},
   "outputs": [
    {
     "data": {
      "image/png": "[encoded data removed]",
      "text/latex": [
       "$\\displaystyle -0.139466809093425$"
      ],
      "text/plain": [
       "-0.139466809093425"
      ]
     },
     "execution_count": 53,
     "metadata": {},
     "output_type": "execute_result"
    }
   ],
   "source": [
    "(sp.integrate(z,(x,sp.pi/4, sp.pi/3))).evalf()"
   ]
  },
  {
   "cell_type": "markdown",
   "id": "b92c4a72",
   "metadata": {},
   "source": [
    "\\begin{equation} \\int_{0} ^{ln2}  \\frac{e^x}{\\sqrt{e^{2x} +4 }} \\end{equation} integralni hisoblang."
   ]
  },
  {
   "cell_type": "code",
   "execution_count": 55,
   "id": "8a8131cb",
   "metadata": {},
   "outputs": [
    {
     "data": {
      "image/png": "[encoded data removed]",
      "text/latex": [
       "$\\displaystyle \\frac{e^{x}}{\\sqrt{e^{2 x} + 4}}$"
      ],
      "text/plain": [
       "       x     \n",
       "      ℯ      \n",
       "─────────────\n",
       "   __________\n",
       "  ╱  2⋅x     \n",
       "╲╱  ℯ    + 4 "
      ]
     },
     "execution_count": 55,
     "metadata": {},
     "output_type": "execute_result"
    }
   ],
   "source": [
    "f = sp.exp(x)/sp.sqrt(sp.exp(2*x) + 4) \n",
    "f"
   ]
  },
  {
   "cell_type": "code",
   "execution_count": 56,
   "id": "ae0ccbdf",
   "metadata": {},
   "outputs": [
    {
     "data": {
      "image/png": "[encoded data removed]",
      "text/latex": [
       "$\\displaystyle - \\operatorname{asinh}{\\left(\\frac{1}{2} \\right)} + \\log{\\left(1 + \\sqrt{2} \\right)}$"
      ],
      "text/plain": [
       "-asinh(1/2) + log(1 + √2)"
      ]
     },
     "execution_count": 56,
     "metadata": {},
     "output_type": "execute_result"
    }
   ],
   "source": [
    "sp.integrate(f,(x,0, sp.log(2)))"
   ]
  },
  {
   "cell_type": "code",
   "execution_count": 57,
   "id": "e2681ccb",
   "metadata": {},
   "outputs": [
    {
     "data": {
      "image/png": "[encoded data removed]",
      "text/latex": [
       "$\\displaystyle 0.40016176195994$"
      ],
      "text/plain": [
       "0.400161761959940"
      ]
     },
     "execution_count": 57,
     "metadata": {},
     "output_type": "execute_result"
    }
   ],
   "source": [
    "sp.integrate(f,(x,0, sp.log(2))).evalf()"
   ]
  },
  {
   "cell_type": "markdown",
   "id": "a1572912",
   "metadata": {},
   "source": [
    "\\begin{equation}  \\int_{0} ^{\\infty}  \\frac{arctgx}{1+x^2} dx \\end{equation} integralni hisoblang."
   ]
  },
  {
   "cell_type": "code",
   "execution_count": 58,
   "id": "3f9b4132",
   "metadata": {},
   "outputs": [
    {
     "data": {
      "image/png": "[encoded data removed]",
      "text/latex": [
       "$\\displaystyle \\frac{\\operatorname{atan}{\\left(x \\right)}}{x^{2} + 1}$"
      ],
      "text/plain": [
       "atan(x)\n",
       "───────\n",
       "  2    \n",
       " x  + 1"
      ]
     },
     "execution_count": 58,
     "metadata": {},
     "output_type": "execute_result"
    }
   ],
   "source": [
    "f = sp.atan(x)/(1+x**2)\n",
    "f"
   ]
  },
  {
   "cell_type": "code",
   "execution_count": 61,
   "id": "4ef5bdb1",
   "metadata": {},
   "outputs": [
    {
     "data": {
      "image/png": "[encoded data removed]",
      "text/latex": [
       "$\\displaystyle \\frac{\\pi^{2}}{8}$"
      ],
      "text/plain": [
       " 2\n",
       "π \n",
       "──\n",
       "8 "
      ]
     },
     "execution_count": 61,
     "metadata": {},
     "output_type": "execute_result"
    }
   ],
   "source": [
    "sp.integrate(f,(x,0,sp.oo))"
   ]
  },
  {
   "cell_type": "markdown",
   "id": "7caf3ee2",
   "metadata": {},
   "source": [
    "\\begin{equation} \\int_{1} ^{2}  e^{-x^2} dx \\end{equation} integralni hisoblang."
   ]
  },
  {
   "cell_type": "code",
   "execution_count": 63,
   "id": "9f95bf38",
   "metadata": {},
   "outputs": [],
   "source": [
    "f = lambda x: np.exp(-x**2)\n"
   ]
  },
  {
   "cell_type": "code",
   "execution_count": 65,
   "id": "d811ab06",
   "metadata": {},
   "outputs": [
    {
     "data": {
      "image/png": "[encoded data removed]",
      "text/latex": [
       "$\\displaystyle 0.135257257949995$"
      ],
      "text/plain": [
       "0.13525725794999466"
      ]
     },
     "execution_count": 65,
     "metadata": {},
     "output_type": "execute_result"
    }
   ],
   "source": [
    "quad(f,1,2)[0]"
   ]
  },
  {
   "cell_type": "code",
   "execution_count": null,
   "id": "e555df9b",
   "metadata": {},
   "outputs": [],
   "source": []
  }
 ],
 "metadata": {
  "kernelspec": {
   "display_name": "Python 3 (ipykernel)",
   "language": "python",
   "name": "python3"
  },
  "language_info": {
   "codemirror_mode": {
    "name": "ipython",
    "version": 3
   },
   "file_extension": ".py",
   "mimetype": "text/x-python",
   "name": "python",
   "nbconvert_exporter": "python",
   "pygments_lexer": "ipython3",
   "version": "3.9.13"
  }
 },
 "nbformat": 4,
 "nbformat_minor": 5
}
