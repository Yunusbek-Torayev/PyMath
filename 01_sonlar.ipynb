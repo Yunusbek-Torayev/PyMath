{
 "cells": [
  {
   "cell_type": "markdown",
   "id": "db4d0330",
   "metadata": {},
   "source": [
    "# 1. Sonlar ustida amallar"
   ]
  },
  {
   "cell_type": "code",
   "execution_count": 1,
   "id": "75ebe2c4",
   "metadata": {},
   "outputs": [],
   "source": [
    "# Reja:\n",
    "# 1  Sonlarni qo'shish, ayirish, ko'paytirish, bo'lish \n",
    "# 2  Qoldiqli bo'lish, darajaga ko'tarish \n",
    "# 3  Natural sonni tub ko'paytuvchilarga ajratish, ekub, ekukni hisoblash \n",
    "# 4  Oddiy va o'nli kasrlar ustida amallar bajarish\n",
    "# 5  Manfiy-musbat sonlar ustida amallar bajarish \n",
    "# 6  Sonlardan ildiz chiqarish, sonning kasr va manfiy darajalarini hisoblash\n",
    "# 7  Faktorialni hisoblash\n",
    "# 8  Biror asosga ko'ra logarifmni hisoblash\n",
    "# 9  Kompleks sonlar ustida amallar bajarish "
   ]
  },
  {
   "cell_type": "markdown",
   "id": "ee7aa349",
   "metadata": {},
   "source": [
    "# 1) Sonlarni qo'shish, ayirish, ko'paytirish, bo'lish"
   ]
  },
  {
   "cell_type": "code",
   "execution_count": 1,
   "id": "e82272d4",
   "metadata": {},
   "outputs": [
    {
     "data": {
      "text/plain": [
       "624"
      ]
     },
     "execution_count": 1,
     "metadata": {},
     "output_type": "execute_result"
    }
   ],
   "source": [
    "# yig'indini hisoblash\n",
    "\n",
    "345 + 279   "
   ]
  },
  {
   "cell_type": "code",
   "execution_count": 2,
   "id": "d9a7cd64",
   "metadata": {},
   "outputs": [
    {
     "data": {
      "text/plain": [
       "66"
      ]
     },
     "execution_count": 2,
     "metadata": {},
     "output_type": "execute_result"
    }
   ],
   "source": [
    "# Ayirmani hisoblash\n",
    "\n",
    "345 - 279   "
   ]
  },
  {
   "cell_type": "code",
   "execution_count": 3,
   "id": "e6d6a6e2",
   "metadata": {},
   "outputs": [
    {
     "data": {
      "text/plain": [
       "96255"
      ]
     },
     "execution_count": 3,
     "metadata": {},
     "output_type": "execute_result"
    }
   ],
   "source": [
    " # Ko'paytmani hisoblash\n",
    "    \n",
    "345 * 279  "
   ]
  },
  {
   "cell_type": "code",
   "execution_count": 4,
   "id": "3ff282b8",
   "metadata": {},
   "outputs": [
    {
     "data": {
      "text/plain": [
       "1.2365591397849462"
      ]
     },
     "execution_count": 4,
     "metadata": {},
     "output_type": "execute_result"
    }
   ],
   "source": [
    "#  Bo'linmani hisoblash\n",
    "\n",
    "345 / 279   "
   ]
  },
  {
   "cell_type": "code",
   "execution_count": 5,
   "id": "3ed6f883",
   "metadata": {},
   "outputs": [
    {
     "name": "stdout",
     "output_type": "stream",
     "text": [
      "595\n",
      "95\n",
      "86250\n",
      "3.1363636363636362\n",
      "10450\n"
     ]
    }
   ],
   "source": [
    "# Hisoblashga oid turli amallar bajarish\n",
    "\n",
    "a = 345\n",
    "b = 250\n",
    "c = 110\n",
    "\n",
    "print(a+b)\n",
    "print(a-b)\n",
    "print(a*b)\n",
    "print(a/c)\n",
    "print((a-b)*c)"
   ]
  },
  {
   "cell_type": "markdown",
   "id": "00bea4c7",
   "metadata": {},
   "source": [
    "# 2)  Qoldiqli bo'lish, darajaga ko'tarish"
   ]
  },
  {
   "cell_type": "code",
   "execution_count": 6,
   "id": "334165b9",
   "metadata": {},
   "outputs": [
    {
     "data": {
      "text/plain": [
       "2"
      ]
     },
     "execution_count": 6,
     "metadata": {},
     "output_type": "execute_result"
    }
   ],
   "source": [
    "# Bo'linmaning butun qismini hisoblash\n",
    "\n",
    "345 // 167  "
   ]
  },
  {
   "cell_type": "code",
   "execution_count": 7,
   "id": "a21aa023",
   "metadata": {},
   "outputs": [
    {
     "data": {
      "text/plain": [
       "11"
      ]
     },
     "execution_count": 7,
     "metadata": {},
     "output_type": "execute_result"
    }
   ],
   "source": [
    "# Bolinmadagi qoldiqni hisoblash\n",
    "\n",
    "345 % 167   "
   ]
  },
  {
   "cell_type": "code",
   "execution_count": 9,
   "id": "86b570db",
   "metadata": {},
   "outputs": [
    {
     "data": {
      "text/plain": [
       "1024"
      ]
     },
     "execution_count": 9,
     "metadata": {},
     "output_type": "execute_result"
    }
   ],
   "source": [
    "# Sonni darajaga ko'tarish\n",
    "\n",
    "2**10        "
   ]
  },
  {
   "cell_type": "markdown",
   "id": "50dab197",
   "metadata": {},
   "source": [
    "# 3)  Natural sonni tub ko'paytuvchilarga ajratish, ekub, ekukni hisoblash"
   ]
  },
  {
   "cell_type": "code",
   "execution_count": 10,
   "id": "50b36c67",
   "metadata": {},
   "outputs": [
    {
     "name": "stdout",
     "output_type": "stream",
     "text": [
      "1\n",
      "2\n",
      "5\n",
      "10\n",
      "25\n",
      "50\n",
      "125\n",
      "250\n"
     ]
    }
   ],
   "source": [
    "# Natural bo'luvchilarini hisoblash\n",
    "\n",
    "import math \n",
    "a = 250\n",
    "for i in range(1,251):\n",
    "    if a%i==0:\n",
    "        print(i)"
   ]
  },
  {
   "cell_type": "code",
   "execution_count": 11,
   "id": "4dc83de6",
   "metadata": {},
   "outputs": [
    {
     "name": "stdout",
     "output_type": "stream",
     "text": [
      "Enter the number for calculating the prime factors :\n",
      "250\n",
      "2\n",
      "5\n",
      "5\n",
      "5\n"
     ]
    }
   ],
   "source": [
    "import math\n",
    "def primefactors(n):\n",
    "   #even number divisible\n",
    "   while n % 2 == 0:\n",
    "      print(2),\n",
    "      n = n / 2\n",
    "    \n",
    "   #n became odd\n",
    "   for i in range(3,int(math.sqrt(n))+1,2):\n",
    "     \n",
    "      while (n % i == 0):\n",
    "         print (i)\n",
    "         n = n / i\n",
    "    \n",
    "   if n > 2:\n",
    "      print (n)\n",
    " \n",
    "n = int(input(\"Enter the number for calculating the prime factors :\\n\"))\n",
    "primefactors(n)"
   ]
  },
  {
   "cell_type": "code",
   "execution_count": 12,
   "id": "a9baf9fb",
   "metadata": {},
   "outputs": [
    {
     "name": "stdout",
     "output_type": "stream",
     "text": [
      "sonni kiriting 250\n",
      "[2, 5, 5, 5]\n"
     ]
    }
   ],
   "source": [
    "a = int(input(\"sonni kiriting \" ))\n",
    "def tub_kopaytuvchi(num):\n",
    "    div = 2\n",
    "    ans = list()\n",
    "    while(div<=num):\n",
    "        if(num%div==0):\n",
    "            ans.append(div)\n",
    "            num = num/div\n",
    "        else:\n",
    "            div+=1\n",
    "    return ans\n",
    "answer = tub_kopaytuvchi(a)\n",
    "print(answer)"
   ]
  },
  {
   "cell_type": "code",
   "execution_count": 13,
   "id": "75dc6419",
   "metadata": {},
   "outputs": [
    {
     "name": "stdout",
     "output_type": "stream",
     "text": [
      "10\n",
      "1200\n",
      "10\n",
      "1200\n"
     ]
    }
   ],
   "source": [
    "# Ekubni va ekukni hisoblash\n",
    "\n",
    "a = 50 \n",
    "b = 60 \n",
    "c = 80\n",
    "\n",
    "import math \n",
    "\n",
    "ekub1 = math.gcd(a,b)\n",
    "ekuk2 = math.lcm(a,b)\n",
    "ekub2 = math.gcd(a,b,c)\n",
    "ekuk2 = math.lcm(a,b,c)\n",
    "\n",
    "print(ekub1)\n",
    "print(ekuk2)\n",
    "print(ekub2)\n",
    "print(ekuk2)\n"
   ]
  },
  {
   "cell_type": "markdown",
   "id": "5c5b6faa",
   "metadata": {},
   "source": [
    "# 4) Oddiy va o'nli kasrlar ustida amallar bajarish"
   ]
  },
  {
   "cell_type": "code",
   "execution_count": 16,
   "id": "ce973f22",
   "metadata": {},
   "outputs": [],
   "source": [
    "import math\n",
    "from fractions import Fraction as f"
   ]
  },
  {
   "cell_type": "code",
   "execution_count": 17,
   "id": "1b48ca64",
   "metadata": {},
   "outputs": [
    {
     "data": {
      "text/plain": [
       "Fraction(29, 35)"
      ]
     },
     "execution_count": 17,
     "metadata": {},
     "output_type": "execute_result"
    }
   ],
   "source": [
    "f(3,7) + f(2,5)"
   ]
  },
  {
   "cell_type": "code",
   "execution_count": 19,
   "id": "007b3402",
   "metadata": {},
   "outputs": [
    {
     "data": {
      "text/plain": [
       "Fraction(11, 4)"
      ]
     },
     "execution_count": 19,
     "metadata": {},
     "output_type": "execute_result"
    }
   ],
   "source": [
    "2 + f(3,4)"
   ]
  },
  {
   "cell_type": "code",
   "execution_count": 20,
   "id": "7f3c82a7",
   "metadata": {},
   "outputs": [
    {
     "data": {
      "text/plain": [
       "3.126"
      ]
     },
     "execution_count": 20,
     "metadata": {},
     "output_type": "execute_result"
    }
   ],
   "source": [
    "0.67 + 2.456"
   ]
  },
  {
   "cell_type": "code",
   "execution_count": 21,
   "id": "4bca386d",
   "metadata": {},
   "outputs": [
    {
     "data": {
      "text/plain": [
       "-1.786"
      ]
     },
     "execution_count": 21,
     "metadata": {},
     "output_type": "execute_result"
    }
   ],
   "source": [
    "0.67 - 2.456"
   ]
  },
  {
   "cell_type": "code",
   "execution_count": 22,
   "id": "c26174e0",
   "metadata": {},
   "outputs": [
    {
     "data": {
      "text/plain": [
       "1.64552"
      ]
     },
     "execution_count": 22,
     "metadata": {},
     "output_type": "execute_result"
    }
   ],
   "source": [
    "0.67 * 2.456"
   ]
  },
  {
   "cell_type": "code",
   "execution_count": 24,
   "id": "39a43511",
   "metadata": {},
   "outputs": [
    {
     "data": {
      "text/plain": [
       "0.2728013029315961"
      ]
     },
     "execution_count": 24,
     "metadata": {},
     "output_type": "execute_result"
    }
   ],
   "source": [
    "0.67 / 2.456"
   ]
  },
  {
   "cell_type": "code",
   "execution_count": 25,
   "id": "cbb27a26",
   "metadata": {},
   "outputs": [
    {
     "data": {
      "text/plain": [
       "10.579999999999998"
      ]
     },
     "execution_count": 25,
     "metadata": {},
     "output_type": "execute_result"
    }
   ],
   "source": [
    "4.6*(5.5-3.2)"
   ]
  },
  {
   "cell_type": "markdown",
   "id": "b4473a0f",
   "metadata": {},
   "source": [
    "# 5)  Musbat va manfiy sonlar ustida amallar bajarish"
   ]
  },
  {
   "cell_type": "code",
   "execution_count": 26,
   "id": "d44b48de",
   "metadata": {},
   "outputs": [
    {
     "data": {
      "text/plain": [
       "-8105"
      ]
     },
     "execution_count": 26,
     "metadata": {},
     "output_type": "execute_result"
    }
   ],
   "source": [
    "-452 -7653"
   ]
  },
  {
   "cell_type": "code",
   "execution_count": 27,
   "id": "7c2c2e41",
   "metadata": {},
   "outputs": [
    {
     "data": {
      "text/plain": [
       "3459156"
      ]
     },
     "execution_count": 27,
     "metadata": {},
     "output_type": "execute_result"
    }
   ],
   "source": [
    "-452* (-7653)"
   ]
  },
  {
   "cell_type": "code",
   "execution_count": 28,
   "id": "89ea3fd4",
   "metadata": {},
   "outputs": [
    {
     "data": {
      "text/plain": [
       "16"
      ]
     },
     "execution_count": 28,
     "metadata": {},
     "output_type": "execute_result"
    }
   ],
   "source": [
    "(-4)**2"
   ]
  },
  {
   "cell_type": "markdown",
   "id": "8078b7d9",
   "metadata": {},
   "source": [
    "# 6)  Sonlardan ildiz chiqarish, sonning kasr va manfiy darajalarini hisoblash"
   ]
  },
  {
   "cell_type": "code",
   "execution_count": 30,
   "id": "cb9f33ba",
   "metadata": {},
   "outputs": [
    {
     "data": {
      "text/plain": [
       "6.324555320336759"
      ]
     },
     "execution_count": 30,
     "metadata": {},
     "output_type": "execute_result"
    }
   ],
   "source": [
    "import numpy \n",
    "\n",
    "numpy.sqrt(40)"
   ]
  },
  {
   "cell_type": "code",
   "execution_count": 31,
   "id": "59e6d07e",
   "metadata": {},
   "outputs": [
    {
     "data": {
      "text/plain": [
       "3.4199518933533937"
      ]
     },
     "execution_count": 31,
     "metadata": {},
     "output_type": "execute_result"
    }
   ],
   "source": [
    "40**(1/3)"
   ]
  },
  {
   "cell_type": "code",
   "execution_count": 32,
   "id": "7694cd08",
   "metadata": {},
   "outputs": [
    {
     "data": {
      "text/plain": [
       "0.003952847075210474"
      ]
     },
     "execution_count": 32,
     "metadata": {},
     "output_type": "execute_result"
    }
   ],
   "source": [
    "40**(-1.5)"
   ]
  },
  {
   "cell_type": "markdown",
   "id": "4786f516",
   "metadata": {},
   "source": [
    "# 7)  Faktorialni hisoblash"
   ]
  },
  {
   "cell_type": "code",
   "execution_count": 43,
   "id": "4af92fdf",
   "metadata": {},
   "outputs": [],
   "source": [
    "import math\n",
    "from math import factorial as f"
   ]
  },
  {
   "cell_type": "code",
   "execution_count": 45,
   "id": "e6e1205e",
   "metadata": {},
   "outputs": [
    {
     "data": {
      "text/plain": [
       "120"
      ]
     },
     "execution_count": 45,
     "metadata": {},
     "output_type": "execute_result"
    }
   ],
   "source": [
    "f(5)"
   ]
  },
  {
   "cell_type": "code",
   "execution_count": 46,
   "id": "a0fee541",
   "metadata": {},
   "outputs": [
    {
     "data": {
      "text/plain": [
       "5040"
      ]
     },
     "execution_count": 46,
     "metadata": {},
     "output_type": "execute_result"
    }
   ],
   "source": [
    "f(7)"
   ]
  },
  {
   "cell_type": "markdown",
   "id": "e560c0d1",
   "metadata": {},
   "source": [
    "# 8)  Biror asosga ko'ra logarifmni hisoblash"
   ]
  },
  {
   "cell_type": "code",
   "execution_count": 47,
   "id": "91bab4a6",
   "metadata": {},
   "outputs": [],
   "source": [
    "import math "
   ]
  },
  {
   "cell_type": "markdown",
   "id": "265399ed",
   "metadata": {},
   "source": [
    "$ log_3 2 $ ni hisoblang"
   ]
  },
  {
   "cell_type": "code",
   "execution_count": 48,
   "id": "47febaed",
   "metadata": {},
   "outputs": [
    {
     "data": {
      "text/plain": [
       "0.6309297535714574"
      ]
     },
     "execution_count": 48,
     "metadata": {},
     "output_type": "execute_result"
    }
   ],
   "source": [
    "math.log(2,3)"
   ]
  },
  {
   "cell_type": "code",
   "execution_count": 50,
   "id": "eab2d1d9",
   "metadata": {},
   "outputs": [
    {
     "data": {
      "text/plain": [
       "6.0"
      ]
     },
     "execution_count": 50,
     "metadata": {},
     "output_type": "execute_result"
    }
   ],
   "source": [
    "math.log2(64)"
   ]
  },
  {
   "cell_type": "code",
   "execution_count": 51,
   "id": "05044246",
   "metadata": {},
   "outputs": [
    {
     "data": {
      "text/plain": [
       "-3.0"
      ]
     },
     "execution_count": 51,
     "metadata": {},
     "output_type": "execute_result"
    }
   ],
   "source": [
    "math.log10(1/1000)"
   ]
  },
  {
   "cell_type": "code",
   "execution_count": 52,
   "id": "4081e903",
   "metadata": {},
   "outputs": [
    {
     "data": {
      "text/plain": [
       "1.7351891177396608"
      ]
     },
     "execution_count": 52,
     "metadata": {},
     "output_type": "execute_result"
    }
   ],
   "source": [
    "# ln(5.67) ni hisoblang. \n",
    "math.log(5.67)"
   ]
  },
  {
   "cell_type": "markdown",
   "id": "262e1bf2",
   "metadata": {},
   "source": [
    "# 9)  Kompleks sonlar ustida amallar bajarish"
   ]
  },
  {
   "cell_type": "code",
   "execution_count": 54,
   "id": "84c8090c",
   "metadata": {},
   "outputs": [],
   "source": [
    "z1 = 4+5j\n",
    "z2 = 3-2j"
   ]
  },
  {
   "cell_type": "code",
   "execution_count": 55,
   "id": "de2c64bc",
   "metadata": {},
   "outputs": [
    {
     "data": {
      "text/plain": [
       "(7+3j)"
      ]
     },
     "execution_count": 55,
     "metadata": {},
     "output_type": "execute_result"
    }
   ],
   "source": [
    "z1+z2"
   ]
  },
  {
   "cell_type": "code",
   "execution_count": 56,
   "id": "46828a0d",
   "metadata": {},
   "outputs": [
    {
     "data": {
      "text/plain": [
       "(1+7j)"
      ]
     },
     "execution_count": 56,
     "metadata": {},
     "output_type": "execute_result"
    }
   ],
   "source": [
    "z1-z2"
   ]
  },
  {
   "cell_type": "code",
   "execution_count": 57,
   "id": "21d7ff76",
   "metadata": {},
   "outputs": [
    {
     "data": {
      "text/plain": [
       "(22+7j)"
      ]
     },
     "execution_count": 57,
     "metadata": {},
     "output_type": "execute_result"
    }
   ],
   "source": [
    "z1*z2"
   ]
  },
  {
   "cell_type": "code",
   "execution_count": 58,
   "id": "ae8f0db1",
   "metadata": {},
   "outputs": [
    {
     "data": {
      "text/plain": [
       "(0.15384615384615394+1.7692307692307692j)"
      ]
     },
     "execution_count": 58,
     "metadata": {},
     "output_type": "execute_result"
    }
   ],
   "source": [
    "z1/z2"
   ]
  },
  {
   "cell_type": "code",
   "execution_count": 59,
   "id": "59af054a",
   "metadata": {},
   "outputs": [
    {
     "data": {
      "text/plain": [
       "(-9+40j)"
      ]
     },
     "execution_count": 59,
     "metadata": {},
     "output_type": "execute_result"
    }
   ],
   "source": [
    "z1**2"
   ]
  },
  {
   "cell_type": "code",
   "execution_count": 60,
   "id": "7fa12899",
   "metadata": {},
   "outputs": [
    {
     "data": {
      "text/plain": [
       "4.0"
      ]
     },
     "execution_count": 60,
     "metadata": {},
     "output_type": "execute_result"
    }
   ],
   "source": [
    "z1.real"
   ]
  },
  {
   "cell_type": "code",
   "execution_count": 61,
   "id": "61a39e20",
   "metadata": {},
   "outputs": [
    {
     "data": {
      "text/plain": [
       "5.0"
      ]
     },
     "execution_count": 61,
     "metadata": {},
     "output_type": "execute_result"
    }
   ],
   "source": [
    "z1.imag"
   ]
  },
  {
   "cell_type": "code",
   "execution_count": null,
   "id": "0eb5bc36",
   "metadata": {},
   "outputs": [],
   "source": []
  }
 ],
 "metadata": {
  "kernelspec": {
   "display_name": "Python 3 (ipykernel)",
   "language": "python",
   "name": "python3"
  },
  "language_info": {
   "codemirror_mode": {
    "name": "ipython",
    "version": 3
   },
   "file_extension": ".py",
   "mimetype": "text/x-python",
   "name": "python",
   "nbconvert_exporter": "python",
   "pygments_lexer": "ipython3",
   "version": "3.9.13"
  }
 },
 "nbformat": 4,
 "nbformat_minor": 5
}
