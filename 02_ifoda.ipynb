{
 "cells": [
  {
   "cell_type": "markdown",
   "id": "16e8bdc7",
   "metadata": {},
   "source": [
    "# 2. Ifodalarni soddalashtirish"
   ]
  },
  {
   "cell_type": "code",
   "execution_count": 1,
   "id": "b753c0e2",
   "metadata": {},
   "outputs": [],
   "source": [
    "# Reja: \n",
    "# 1  Algebraik ifodalarni soddalashtirish, uning son qiymatini hisoblash\n",
    "# 2  Ko'p hadni ko'paytuvchilarga ajratish\n",
    "# 3  Logarifmik ifodalarni soddalashtirish \n",
    "# 4  Trigonometrik ifodalarni soddalashtirish "
   ]
  },
  {
   "cell_type": "markdown",
   "id": "7175aced",
   "metadata": {},
   "source": [
    "# 1) Algebraik ifodalarni soddalashtirish, uning son qiymatini hisoblash"
   ]
  },
  {
   "cell_type": "markdown",
   "id": "038e6885",
   "metadata": {},
   "source": [
    "1) Kasrni qisqartiring:  $ \\frac{x^3-27}{x-3}  $"
   ]
  },
  {
   "cell_type": "code",
   "execution_count": 1,
   "id": "24e1439d",
   "metadata": {},
   "outputs": [],
   "source": [
    "import sympy as sp"
   ]
  },
  {
   "cell_type": "code",
   "execution_count": 2,
   "id": "34080fb2",
   "metadata": {},
   "outputs": [],
   "source": [
    "x = sp.Symbol('x')"
   ]
  },
  {
   "cell_type": "code",
   "execution_count": 3,
   "id": "c752c000",
   "metadata": {},
   "outputs": [],
   "source": [
    "y,z,k,m,n = sp.symbols('y,z,k,m,n')"
   ]
  },
  {
   "cell_type": "code",
   "execution_count": 4,
   "id": "089df026",
   "metadata": {},
   "outputs": [
    {
     "data": {
      "text/latex": [
       "$\\displaystyle x^{2} + 3 x + 9$"
      ],
      "text/plain": [
       "x**2 + 3*x + 9"
      ]
     },
     "execution_count": 4,
     "metadata": {},
     "output_type": "execute_result"
    }
   ],
   "source": [
    "sp.cancel((x**3-27)/(x-3))"
   ]
  },
  {
   "cell_type": "code",
   "execution_count": 7,
   "id": "50a27f77",
   "metadata": {},
   "outputs": [
    {
     "data": {
      "text/latex": [
       "$\\displaystyle 5 x^{2} + 3 x + 1$"
      ],
      "text/plain": [
       "5*x**2 + 3*x + 1"
      ]
     },
     "execution_count": 7,
     "metadata": {},
     "output_type": "execute_result"
    }
   ],
   "source": [
    "z = x**3 + 3*x**2 + 3*x + 1 \n",
    "y = x**3 - 2*x**2\n",
    "sp.simplify(z-y)"
   ]
  },
  {
   "cell_type": "markdown",
   "id": "c3690c96",
   "metadata": {},
   "source": [
    "2) Ifodaning a=3.5 va b=-2 bo'lgandagi son qiymatini hisoblang: $\\frac{2a-3b}{a+b}$"
   ]
  },
  {
   "cell_type": "code",
   "execution_count": 8,
   "id": "cfabf192",
   "metadata": {},
   "outputs": [],
   "source": [
    "a,b = sp.symbols('a,b')"
   ]
  },
  {
   "cell_type": "code",
   "execution_count": 10,
   "id": "33361dc4",
   "metadata": {},
   "outputs": [
    {
     "data": {
      "text/latex": [
       "$\\displaystyle \\frac{2 a - 3 b}{a + b}$"
      ],
      "text/plain": [
       "(2*a - 3*b)/(a + b)"
      ]
     },
     "execution_count": 10,
     "metadata": {},
     "output_type": "execute_result"
    }
   ],
   "source": [
    "c = (2*a-3*b)/(a+b)\n",
    "c"
   ]
  },
  {
   "cell_type": "code",
   "execution_count": 13,
   "id": "7c8e186d",
   "metadata": {},
   "outputs": [
    {
     "data": {
      "text/latex": [
       "$\\displaystyle 0.181818181818182$"
      ],
      "text/plain": [
       "0.181818181818182"
      ]
     },
     "execution_count": 13,
     "metadata": {},
     "output_type": "execute_result"
    }
   ],
   "source": [
    "(c.subs(a,3.5)).subs(b,2)"
   ]
  },
  {
   "cell_type": "markdown",
   "id": "06f51336",
   "metadata": {},
   "source": [
    "# 2) Ko'p hadni ko'paytuvchilarga ajratish"
   ]
  },
  {
   "cell_type": "markdown",
   "id": "59b94b98",
   "metadata": {},
   "source": [
    "3) $ x^{12} - y^{12} $ ifodani ko'paytuvchilarga ajrating."
   ]
  },
  {
   "cell_type": "code",
   "execution_count": 15,
   "id": "81504c4b",
   "metadata": {},
   "outputs": [
    {
     "data": {
      "text/latex": [
       "$\\displaystyle \\left(- n + x\\right) \\left(n + x\\right) \\left(n^{2} + x^{2}\\right) \\left(n^{2} - n x + x^{2}\\right) \\left(n^{2} + n x + x^{2}\\right) \\left(n^{4} - n^{2} x^{2} + x^{4}\\right)$"
      ],
      "text/plain": [
       "(-n + x)*(n + x)*(n**2 + x**2)*(n**2 - n*x + x**2)*(n**2 + n*x + x**2)*(n**4 - n**2*x**2 + x**4)"
      ]
     },
     "execution_count": 15,
     "metadata": {},
     "output_type": "execute_result"
    }
   ],
   "source": [
    "sp.factor(x**12 - n**12)"
   ]
  },
  {
   "cell_type": "code",
   "execution_count": 16,
   "id": "b84d7e91",
   "metadata": {},
   "outputs": [
    {
     "data": {
      "text/latex": [
       "$\\displaystyle \\left(x + 1\\right)^{3}$"
      ],
      "text/plain": [
       "(x + 1)**3"
      ]
     },
     "execution_count": 16,
     "metadata": {},
     "output_type": "execute_result"
    }
   ],
   "source": [
    "z = x**3 + 3*x**2 + 3*x + 1 \n",
    "sp.factor(z)"
   ]
  },
  {
   "cell_type": "markdown",
   "id": "1f6a1c92",
   "metadata": {},
   "source": [
    "# 3) Logarifmik ifodalarni soddalashtirish "
   ]
  },
  {
   "cell_type": "markdown",
   "id": "c56c335c",
   "metadata": {},
   "source": [
    "lnx = log(x), $log_2 x$ = log2(x), lgx = log10(x), $log_2 3$ = log(3,2)"
   ]
  },
  {
   "cell_type": "code",
   "execution_count": 17,
   "id": "cc449cdf",
   "metadata": {},
   "outputs": [],
   "source": [
    "y,z,k,m,n = sp.symbols('y,z,k,m,n')"
   ]
  },
  {
   "cell_type": "code",
   "execution_count": 19,
   "id": "f967837d",
   "metadata": {},
   "outputs": [
    {
     "data": {
      "text/latex": [
       "$\\displaystyle \\log{\\left(n \\right)} + \\log{\\left(x \\right)}$"
      ],
      "text/plain": [
       "log(n) + log(x)"
      ]
     },
     "execution_count": 19,
     "metadata": {},
     "output_type": "execute_result"
    }
   ],
   "source": [
    "g = sp.log(x) + sp.log(n)\n",
    "g"
   ]
  },
  {
   "cell_type": "code",
   "execution_count": 24,
   "id": "ee326745",
   "metadata": {},
   "outputs": [
    {
     "data": {
      "text/latex": [
       "$\\displaystyle y \\left(\\log{\\left(n \\right)} + \\log{\\left(x \\right)}\\right)$"
      ],
      "text/plain": [
       "y*(log(n) + log(x))"
      ]
     },
     "execution_count": 24,
     "metadata": {},
     "output_type": "execute_result"
    }
   ],
   "source": [
    "sp.expand_log(g*y)"
   ]
  },
  {
   "cell_type": "code",
   "execution_count": 26,
   "id": "bbbd4113",
   "metadata": {},
   "outputs": [
    {
     "data": {
      "text/latex": [
       "$\\displaystyle \\log{\\left(n x \\right)}$"
      ],
      "text/plain": [
       "log(n*x)"
      ]
     },
     "execution_count": 26,
     "metadata": {},
     "output_type": "execute_result"
    }
   ],
   "source": [
    "sp.logcombine(g, force=True)"
   ]
  },
  {
   "cell_type": "markdown",
   "id": "e9c15eb3",
   "metadata": {},
   "source": [
    "# 4) Trigonometrik ifodalarni soddalashtirish "
   ]
  },
  {
   "cell_type": "markdown",
   "id": "9a8fee68",
   "metadata": {},
   "source": [
    "$sin^2 x + cos^2 x$ ni soddalshtiring"
   ]
  },
  {
   "cell_type": "code",
   "execution_count": 28,
   "id": "e73be082",
   "metadata": {},
   "outputs": [
    {
     "data": {
      "text/latex": [
       "$\\displaystyle \\sin^{2}{\\left(x \\right)} + \\cos^{2}{\\left(x \\right)}$"
      ],
      "text/plain": [
       "sin(x)**2 + cos(x)**2"
      ]
     },
     "execution_count": 28,
     "metadata": {},
     "output_type": "execute_result"
    }
   ],
   "source": [
    "f = sp.sin(x)**2 + sp.cos(x)**2\n",
    "f"
   ]
  },
  {
   "cell_type": "code",
   "execution_count": 29,
   "id": "15321afe",
   "metadata": {},
   "outputs": [
    {
     "data": {
      "text/latex": [
       "$\\displaystyle 1$"
      ],
      "text/plain": [
       "1"
      ]
     },
     "execution_count": 29,
     "metadata": {},
     "output_type": "execute_result"
    }
   ],
   "source": [
    "sp.simplify(f)"
   ]
  },
  {
   "cell_type": "code",
   "execution_count": 30,
   "id": "9e5e12ca",
   "metadata": {},
   "outputs": [],
   "source": [
    "# sin(arccosx) ni soddalshtiring"
   ]
  },
  {
   "cell_type": "code",
   "execution_count": 31,
   "id": "5729e266",
   "metadata": {},
   "outputs": [
    {
     "data": {
      "text/latex": [
       "$\\displaystyle \\sqrt{1 - x^{2}}$"
      ],
      "text/plain": [
       "sqrt(1 - x**2)"
      ]
     },
     "execution_count": 31,
     "metadata": {},
     "output_type": "execute_result"
    }
   ],
   "source": [
    "sp.simplify(sp.sin(sp.acos(x)))"
   ]
  },
  {
   "cell_type": "code",
   "execution_count": 32,
   "id": "9471fc47",
   "metadata": {},
   "outputs": [],
   "source": [
    "# sin(x-y)"
   ]
  },
  {
   "cell_type": "code",
   "execution_count": 33,
   "id": "263df2ff",
   "metadata": {},
   "outputs": [
    {
     "data": {
      "text/latex": [
       "$\\displaystyle \\sin{\\left(x \\right)} \\cos{\\left(y \\right)} - \\sin{\\left(y \\right)} \\cos{\\left(x \\right)}$"
      ],
      "text/plain": [
       "sin(x)*cos(y) - sin(y)*cos(x)"
      ]
     },
     "execution_count": 33,
     "metadata": {},
     "output_type": "execute_result"
    }
   ],
   "source": [
    "sp.expand_trig(sp.sin(x-y))"
   ]
  },
  {
   "cell_type": "code",
   "execution_count": null,
   "id": "44fc216f",
   "metadata": {},
   "outputs": [],
   "source": []
  }
 ],
 "metadata": {
  "kernelspec": {
   "display_name": "Python 3 (ipykernel)",
   "language": "python",
   "name": "python3"
  },
  "language_info": {
   "codemirror_mode": {
    "name": "ipython",
    "version": 3
   },
   "file_extension": ".py",
   "mimetype": "text/x-python",
   "name": "python",
   "nbconvert_exporter": "python",
   "pygments_lexer": "ipython3",
   "version": "3.9.13"
  }
 },
 "nbformat": 4,
 "nbformat_minor": 5
}
