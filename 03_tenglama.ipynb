{
 "cells": [
  {
   "cell_type": "markdown",
   "id": "16e8bdc7",
   "metadata": {},
   "source": [
    "# 3. Tenglamalar va tengsizliklarni yechish"
   ]
  },
  {
   "cell_type": "code",
   "execution_count": null,
   "id": "dd47f05a",
   "metadata": {},
   "outputs": [],
   "source": [
    "# Reja: \n",
    "# 1  Oddiy bir nomalumli tenglama va tengsizliklarni yechish\n",
    "# 2  Oddiy tenglama va tengsizliklar sistemalarini yechish \n",
    "# 3  Algebraik tenglamalarni yechish\n",
    "# 4  Ko'rsatkichli tenglamalarni yechish\n",
    "# 5  Logarifmik tenglamalarni yechish \n",
    "# 6  Trigonometrik tenglamalarni yechish \n",
    "# 7  Tenglamalarning taqribiy ildizini hisoblash "
   ]
  },
  {
   "cell_type": "markdown",
   "id": "7175aced",
   "metadata": {},
   "source": [
    "# 1) Oddiy bir nomalumli tenglama va tengsizliklarni yechish"
   ]
  },
  {
   "cell_type": "markdown",
   "id": "ba4d6218",
   "metadata": {},
   "source": [
    "$2x^2 - 5x + 2 = 0$ tenglamani yeching."
   ]
  },
  {
   "cell_type": "code",
   "execution_count": 2,
   "id": "d22759ce",
   "metadata": {},
   "outputs": [],
   "source": [
    "import sympy as sp\n",
    "sp.init_printing()"
   ]
  },
  {
   "cell_type": "code",
   "execution_count": 3,
   "id": "b21d37a3",
   "metadata": {},
   "outputs": [],
   "source": [
    "x,y,z = sp.symbols('x,y,z')"
   ]
  },
  {
   "cell_type": "code",
   "execution_count": 4,
   "id": "9c2fe309",
   "metadata": {},
   "outputs": [
    {
     "data": {
      "image/png": "[encoded data removed]",
      "text/latex": [
       "$\\displaystyle \\left[ \\frac{1}{2}, \\  2\\right]$"
      ],
      "text/plain": [
       "[1/2, 2]"
      ]
     },
     "execution_count": 4,
     "metadata": {},
     "output_type": "execute_result"
    }
   ],
   "source": [
    "sp.solve(2*x**2-5*x+2,x)"
   ]
  },
  {
   "cell_type": "markdown",
   "id": "e10fda5b",
   "metadata": {},
   "source": [
    "$ \\frac{4}{3-x} - 2x = 24  $ tenglamani yeching"
   ]
  },
  {
   "cell_type": "code",
   "execution_count": 5,
   "id": "4c6fcc7e",
   "metadata": {},
   "outputs": [
    {
     "data": {
      "image/png": "[encoded data removed]",
      "text/latex": [
       "$\\displaystyle \\left[ - \\frac{9}{2} + \\frac{\\sqrt{217}}{2}, \\  - \\frac{\\sqrt{217}}{2} - \\frac{9}{2}\\right]$"
      ],
      "text/plain": [
       "⎡  9   √217    √217   9⎤\n",
       "⎢- ─ + ────, - ──── - ─⎥\n",
       "⎣  2    2       2     2⎦"
      ]
     },
     "execution_count": 5,
     "metadata": {},
     "output_type": "execute_result"
    }
   ],
   "source": [
    "sp.solve(4/(3-x)-2*x-24,x)"
   ]
  },
  {
   "cell_type": "markdown",
   "id": "2d0d1cbf",
   "metadata": {},
   "source": [
    "$ x^2 - \\frac{y}{z} =0 $"
   ]
  },
  {
   "cell_type": "code",
   "execution_count": 6,
   "id": "4da3d1e0",
   "metadata": {},
   "outputs": [
    {
     "data": {
      "image/png": "[encoded data removed]",
      "text/latex": [
       "$\\displaystyle \\left[ - \\sqrt{\\frac{y}{z}}, \\  \\sqrt{\\frac{y}{z}}\\right]$"
      ],
      "text/plain": [
       "⎡     ___      ___⎤\n",
       "⎢    ╱ y      ╱ y ⎥\n",
       "⎢-  ╱  ─ ,   ╱  ─ ⎥\n",
       "⎣ ╲╱   z   ╲╱   z ⎦"
      ]
     },
     "execution_count": 6,
     "metadata": {},
     "output_type": "execute_result"
    }
   ],
   "source": [
    "sp.solve(x**2-y/z,x)"
   ]
  },
  {
   "cell_type": "markdown",
   "id": "8cd13ae6",
   "metadata": {},
   "source": [
    "$ 2x^2 - 3x + 1 > 0 $ tengsizlikni yeching "
   ]
  },
  {
   "cell_type": "code",
   "execution_count": 7,
   "id": "04e2d819",
   "metadata": {},
   "outputs": [
    {
     "data": {
      "image/png": "[encoded data removed]",
      "text/latex": [
       "$\\displaystyle \\left(-\\infty < x \\wedge x < \\frac{1}{2}\\right) \\vee \\left(1 < x \\wedge x < \\infty\\right)$"
      ],
      "text/plain": [
       "(-∞ < x ∧ x < 1/2) ∨ (1 < x ∧ x < ∞)"
      ]
     },
     "execution_count": 7,
     "metadata": {},
     "output_type": "execute_result"
    }
   ],
   "source": [
    "sp.solve(2*x**2-3*x+1>0,x)"
   ]
  },
  {
   "cell_type": "code",
   "execution_count": 8,
   "id": "dc24aafc",
   "metadata": {},
   "outputs": [
    {
     "data": {
      "image/png": "[encoded data removed]",
      "text/latex": [
       "$\\displaystyle \\left\\{x\\; \\middle|\\; x \\in \\mathbb{C} \\wedge 2 x^{2} - 3 x + 1 > 0 \\right\\}$"
      ],
      "text/plain": [
       "⎧  │         ⎛   2              ⎞⎫\n",
       "⎨x │ x ∊ ℂ ∧ ⎝2⋅x  - 3⋅x + 1 > 0⎠⎬\n",
       "⎩  │                             ⎭"
      ]
     },
     "execution_count": 8,
     "metadata": {},
     "output_type": "execute_result"
    }
   ],
   "source": [
    "sp.solveset(2*x**2-3*x+1>0,x)"
   ]
  },
  {
   "cell_type": "markdown",
   "id": "0079b710",
   "metadata": {},
   "source": [
    "$ \\frac{5}{3-x} - x < 4 $"
   ]
  },
  {
   "cell_type": "code",
   "execution_count": 9,
   "id": "f63bd665",
   "metadata": {},
   "outputs": [
    {
     "data": {
      "image/png": "[encoded data removed]",
      "text/latex": [
       "$\\displaystyle \\left(x < - \\frac{1}{2} + \\frac{\\sqrt{29}}{2} \\wedge - \\frac{\\sqrt{29}}{2} - \\frac{1}{2} < x\\right) \\vee 3 < x$"
      ],
      "text/plain": [
       "⎛      1   √29     √29   1    ⎞        \n",
       "⎜x < - ─ + ─── ∧ - ─── - ─ < x⎟ ∨ 3 < x\n",
       "⎝      2    2       2    2    ⎠        "
      ]
     },
     "execution_count": 9,
     "metadata": {},
     "output_type": "execute_result"
    }
   ],
   "source": [
    "sp.solve(5/(3-x)-x-4<0,x)"
   ]
  },
  {
   "cell_type": "markdown",
   "id": "7590b736",
   "metadata": {},
   "source": [
    "# 2) Tenglamalar sistemalarini yechish "
   ]
  },
  {
   "cell_type": "markdown",
   "id": "237c66e9",
   "metadata": {},
   "source": [
    "$ \\begin{cases} 3x + 5y = 8 \\\\ 7x – 2y = 5  \\end{cases}  $ tenglamalar sistemasini yeching. "
   ]
  },
  {
   "cell_type": "code",
   "execution_count": 10,
   "id": "2c98064c",
   "metadata": {},
   "outputs": [
    {
     "data": {
      "image/png": "[encoded data removed]",
      "text/latex": [
       "$\\displaystyle \\left\\{ x : 1, \\  y : 1\\right\\}$"
      ],
      "text/plain": [
       "{x: 1, y: 1}"
      ]
     },
     "execution_count": 10,
     "metadata": {},
     "output_type": "execute_result"
    }
   ],
   "source": [
    "sp.solve([3*x + 5*y - 8, 7*x - 2*y - 5], x, y)"
   ]
  },
  {
   "cell_type": "code",
   "execution_count": 19,
   "id": "91f039fe",
   "metadata": {},
   "outputs": [
    {
     "data": {
      "image/png": "[encoded data removed]",
      "text/latex": [
       "$\\displaystyle \\left( a, \\  b, \\  c\\right)$"
      ],
      "text/plain": [
       "(a, b, c)"
      ]
     },
     "execution_count": 19,
     "metadata": {},
     "output_type": "execute_result"
    }
   ],
   "source": [
    "sp.var('a,b,c')"
   ]
  },
  {
   "cell_type": "code",
   "execution_count": 20,
   "id": "de53d05d",
   "metadata": {},
   "outputs": [
    {
     "data": {
      "image/png": "[encoded data removed]",
      "text/latex": [
       "$\\displaystyle \\left\\{ x : \\frac{2 a}{41} + \\frac{5 b}{41}, \\  y : \\frac{7 a}{41} - \\frac{3 b}{41}\\right\\}$"
      ],
      "text/plain": [
       "⎧   2⋅a   5⋅b     7⋅a   3⋅b⎫\n",
       "⎨x: ─── + ───, y: ─── - ───⎬\n",
       "⎩    41    41      41    41⎭"
      ]
     },
     "execution_count": 20,
     "metadata": {},
     "output_type": "execute_result"
    }
   ],
   "source": [
    "sp.solve([3*x + 5*y - a, 7*x - 2*y - b], x, y)"
   ]
  },
  {
   "cell_type": "markdown",
   "id": "705448f1",
   "metadata": {},
   "source": [
    "$ \\begin{cases} x^2 + y^3 = 2 \\\\ x – 2y = -1  \\end{cases}  $ tenglamalar sistemasini yeching. "
   ]
  },
  {
   "cell_type": "code",
   "execution_count": 21,
   "id": "0b4eb2ba",
   "metadata": {},
   "outputs": [
    {
     "data": {
      "image/png": "[encoded data removed]",
      "text/latex": [
       "$\\displaystyle \\left[ \\left( 1, \\  1\\right), \\  \\left( -6 - \\sqrt{21}, \\  - \\frac{5}{2} - \\frac{\\sqrt{21}}{2}\\right), \\  \\left( -6 + \\sqrt{21}, \\  - \\frac{5}{2} + \\frac{\\sqrt{21}}{2}\\right)\\right]$"
      ],
      "text/plain": [
       "⎡        ⎛            5   √21⎞  ⎛            5   √21⎞⎤\n",
       "⎢(1, 1), ⎜-6 - √21, - ─ - ───⎟, ⎜-6 + √21, - ─ + ───⎟⎥\n",
       "⎣        ⎝            2    2 ⎠  ⎝            2    2 ⎠⎦"
      ]
     },
     "execution_count": 21,
     "metadata": {},
     "output_type": "execute_result"
    }
   ],
   "source": [
    "sp.solve([x**2 + y**3 - 2, x - 2*y + 1], x, y)"
   ]
  },
  {
   "cell_type": "markdown",
   "id": "4c0c3bf4",
   "metadata": {},
   "source": [
    "# 3) Algebraik tenglamalarni yechish"
   ]
  },
  {
   "cell_type": "markdown",
   "id": "16d9d64e",
   "metadata": {},
   "source": [
    "$ 3x - a = b \\cdot c  $ tenglamani x ga nisbatan yeching. "
   ]
  },
  {
   "cell_type": "code",
   "execution_count": 22,
   "id": "4582a4a4",
   "metadata": {},
   "outputs": [
    {
     "data": {
      "image/png": "[encoded data removed]",
      "text/latex": [
       "$\\displaystyle \\left[ \\frac{a}{3} + \\frac{b c}{3}\\right]$"
      ],
      "text/plain": [
       "⎡a   b⋅c⎤\n",
       "⎢─ + ───⎥\n",
       "⎣3    3 ⎦"
      ]
     },
     "execution_count": 22,
     "metadata": {},
     "output_type": "execute_result"
    }
   ],
   "source": [
    "sp.solve(3*x - a - b*c,x)"
   ]
  },
  {
   "cell_type": "markdown",
   "id": "692be814",
   "metadata": {},
   "source": [
    "$  \\frac{1}{x - a} = x + b $ tenglamani x ga nisbatan yeching."
   ]
  },
  {
   "cell_type": "code",
   "execution_count": 23,
   "id": "d72db102",
   "metadata": {},
   "outputs": [
    {
     "data": {
      "image/png": "[encoded data removed]",
      "text/latex": [
       "$\\displaystyle \\left[ \\frac{a}{2} - \\frac{b}{2} - \\frac{\\sqrt{a^{2} + 2 a b + b^{2} + 4}}{2}, \\  \\frac{a}{2} - \\frac{b}{2} + \\frac{\\sqrt{a^{2} + 2 a b + b^{2} + 4}}{2}\\right]$"
      ],
      "text/plain": [
       "⎡           _____________________             _____________________⎤\n",
       "⎢          ╱  2            2                 ╱  2            2     ⎥\n",
       "⎢a   b   ╲╱  a  + 2⋅a⋅b + b  + 4   a   b   ╲╱  a  + 2⋅a⋅b + b  + 4 ⎥\n",
       "⎢─ - ─ - ────────────────────────, ─ - ─ + ────────────────────────⎥\n",
       "⎣2   2              2              2   2              2            ⎦"
      ]
     },
     "execution_count": 23,
     "metadata": {},
     "output_type": "execute_result"
    }
   ],
   "source": [
    "sp.solve(1/(x-a)-x-b,x)"
   ]
  },
  {
   "cell_type": "markdown",
   "id": "47211ef4",
   "metadata": {},
   "source": [
    "# 4) Ko'rsatkichli tenglamalarni yechish"
   ]
  },
  {
   "cell_type": "markdown",
   "id": "8f094db6",
   "metadata": {},
   "source": [
    "$ 2^{3x-1} = 16  $ tenglamani yeching."
   ]
  },
  {
   "cell_type": "code",
   "execution_count": 24,
   "id": "ae381b58",
   "metadata": {},
   "outputs": [
    {
     "data": {
      "image/png": "[encoded data removed]",
      "text/latex": [
       "$\\displaystyle \\left[ 4\\right]$"
      ],
      "text/plain": [
       "[4]"
      ]
     },
     "execution_count": 24,
     "metadata": {},
     "output_type": "execute_result"
    }
   ],
   "source": [
    "sp.solve(2**x - 16,x)"
   ]
  },
  {
   "cell_type": "markdown",
   "id": "ad15ec18",
   "metadata": {},
   "source": [
    "$ 3^{x-4} = 27 - 9^x $ tenglamani yeching."
   ]
  },
  {
   "cell_type": "code",
   "execution_count": 26,
   "id": "8d7b836c",
   "metadata": {},
   "outputs": [
    {
     "data": {
      "image/png": "[encoded data removed]",
      "text/latex": [
       "$\\displaystyle \\left[ \\frac{\\log{\\left(\\frac{1}{162} - \\frac{\\sqrt{708587} i}{162} \\right)}}{\\log{\\left(3 \\right)}}, \\  \\frac{\\log{\\left(\\frac{1}{162} + \\frac{\\sqrt{708587} i}{162} \\right)}}{\\log{\\left(3 \\right)}}\\right]$"
      ],
      "text/plain": [
       "⎡   ⎛ 1    √708587⋅ⅈ⎞     ⎛ 1    √708587⋅ⅈ⎞⎤\n",
       "⎢log⎜─── - ─────────⎟  log⎜─── + ─────────⎟⎥\n",
       "⎢   ⎝162      162   ⎠     ⎝162      162   ⎠⎥\n",
       "⎢────────────────────, ────────────────────⎥\n",
       "⎣       log(3)                log(3)       ⎦"
      ]
     },
     "execution_count": 26,
     "metadata": {},
     "output_type": "execute_result"
    }
   ],
   "source": [
    "sp.solve(3**(x-4) - 27 - 9**x,x)"
   ]
  },
  {
   "cell_type": "markdown",
   "id": "67a30a81",
   "metadata": {},
   "source": [
    "# 5) Logarifmik tenglamalarni yechish"
   ]
  },
  {
   "cell_type": "markdown",
   "id": "6b78972c",
   "metadata": {},
   "source": [
    "$ log_3 (x^3 - 18) = 2 $ tenglamani yeching."
   ]
  },
  {
   "cell_type": "code",
   "execution_count": 27,
   "id": "2786ad2f",
   "metadata": {},
   "outputs": [
    {
     "data": {
      "image/png": "[encoded data removed]",
      "text/latex": [
       "$\\displaystyle \\left[ 3, \\  - \\frac{3}{2} - \\frac{3 \\sqrt{3} i}{2}, \\  - \\frac{3}{2} + \\frac{3 \\sqrt{3} i}{2}\\right]$"
      ],
      "text/plain": [
       "⎡     3   3⋅√3⋅ⅈ    3   3⋅√3⋅ⅈ⎤\n",
       "⎢3, - ─ - ──────, - ─ + ──────⎥\n",
       "⎣     2     2       2     2   ⎦"
      ]
     },
     "execution_count": 27,
     "metadata": {},
     "output_type": "execute_result"
    }
   ],
   "source": [
    "sp.solve(sp.log(x**3-18,3)-2,x)"
   ]
  },
  {
   "cell_type": "markdown",
   "id": "ee082c67",
   "metadata": {},
   "source": [
    "$ log_x (2x^2 - 4x + 2) = 1 $ tenglamani yeching. "
   ]
  },
  {
   "cell_type": "code",
   "execution_count": 28,
   "id": "48d21a49",
   "metadata": {},
   "outputs": [
    {
     "data": {
      "image/png": "[encoded data removed]",
      "text/latex": [
       "$\\displaystyle \\left[ \\frac{1}{2}, \\  2\\right]$"
      ],
      "text/plain": [
       "[1/2, 2]"
      ]
     },
     "execution_count": 28,
     "metadata": {},
     "output_type": "execute_result"
    }
   ],
   "source": [
    "sp.solve(sp.log(2*x**2 - 4*x + 2,x)-1,x)"
   ]
  },
  {
   "cell_type": "markdown",
   "id": "8e204054",
   "metadata": {},
   "source": [
    "# 6) Trigonometrik tenglamalarni yechish"
   ]
  },
  {
   "cell_type": "markdown",
   "id": "28d3b2cf",
   "metadata": {},
   "source": [
    "$ sinx = \\frac{\\sqrt{3}}{2} \\quad $ tenglamani yeching."
   ]
  },
  {
   "cell_type": "code",
   "execution_count": 31,
   "id": "f44a07d3",
   "metadata": {},
   "outputs": [
    {
     "data": {
      "image/png": "[encoded data removed]",
      "text/latex": [
       "$\\displaystyle \\left\\{2 n \\pi + \\frac{2 \\pi}{3}\\; \\middle|\\; n \\in \\mathbb{Z}\\right\\} \\cup \\left\\{2 n \\pi + \\frac{\\pi}{3}\\; \\middle|\\; n \\in \\mathbb{Z}\\right\\}$"
      ],
      "text/plain": [
       "⎧        2⋅π │      ⎫   ⎧        π │      ⎫\n",
       "⎨2⋅n⋅π + ─── │ n ∊ ℤ⎬ ∪ ⎨2⋅n⋅π + ─ │ n ∊ ℤ⎬\n",
       "⎩         3  │      ⎭   ⎩        3 │      ⎭"
      ]
     },
     "execution_count": 31,
     "metadata": {},
     "output_type": "execute_result"
    }
   ],
   "source": [
    "sp.solveset(sp.sin(x)-sp.sqrt(3)/2,x)"
   ]
  },
  {
   "cell_type": "markdown",
   "id": "2d1376ea",
   "metadata": {},
   "source": [
    "$ cosx - 1 = sinx  \\quad $ tenglamani yeching. "
   ]
  },
  {
   "cell_type": "code",
   "execution_count": 32,
   "id": "b80b6f6e",
   "metadata": {},
   "outputs": [
    {
     "data": {
      "image/png": "[encoded data removed]",
      "text/latex": [
       "$\\displaystyle \\left\\{2 n \\pi\\; \\middle|\\; n \\in \\mathbb{Z}\\right\\} \\cup \\left\\{2 n \\pi + \\frac{3 \\pi}{2}\\; \\middle|\\; n \\in \\mathbb{Z}\\right\\}$"
      ],
      "text/plain": [
       "                  ⎧        3⋅π │      ⎫\n",
       "{2⋅n⋅π │ n ∊ ℤ} ∪ ⎨2⋅n⋅π + ─── │ n ∊ ℤ⎬\n",
       "                  ⎩         2  │      ⎭"
      ]
     },
     "execution_count": 32,
     "metadata": {},
     "output_type": "execute_result"
    }
   ],
   "source": [
    "sp.solveset(sp.cos(x)-sp.sin(x)-1,x)"
   ]
  },
  {
   "cell_type": "markdown",
   "id": "4d913a67",
   "metadata": {},
   "source": [
    "# 7) Tenglamalarning taqribiy ildizini hisoblash "
   ]
  },
  {
   "cell_type": "markdown",
   "id": "114f9a1f",
   "metadata": {},
   "source": [
    "$ x^2 - 2x^3 = \\frac{3}{x - 2} \\quad $ tenglamaning ildizini taxminiy qiymatini toping. "
   ]
  },
  {
   "cell_type": "code",
   "execution_count": null,
   "id": "0604f055",
   "metadata": {},
   "outputs": [],
   "source": []
  },
  {
   "cell_type": "code",
   "execution_count": null,
   "id": "a9bb85f3",
   "metadata": {},
   "outputs": [],
   "source": []
  },
  {
   "cell_type": "code",
   "execution_count": null,
   "id": "c153dc0e",
   "metadata": {},
   "outputs": [],
   "source": []
  }
 ],
 "metadata": {
  "kernelspec": {
   "display_name": "Python 3 (ipykernel)",
   "language": "python",
   "name": "python3"
  },
  "language_info": {
   "codemirror_mode": {
    "name": "ipython",
    "version": 3
   },
   "file_extension": ".py",
   "mimetype": "text/x-python",
   "name": "python",
   "nbconvert_exporter": "python",
   "pygments_lexer": "ipython3",
   "version": "3.9.13"
  }
 },
 "nbformat": 4,
 "nbformat_minor": 5
}
